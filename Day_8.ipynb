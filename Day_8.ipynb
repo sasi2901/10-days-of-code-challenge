# ******* FUNCTION DEFINING WITH USER INPUTS *******
def Name(name):
    print("What is your name?")
    print(f"My name is {name}")
Name('Sasi')

def greetings(name):
    print(f"Hello, {name}")
    print("How are you?")
greetings('Sasi')
#NOTE: Here in two cases 'name' is called parameter and 'Sasi' is called argument.
#parameter - name of the data that is passed in
#argument - value of the data.

#FUNCTION DEFINING WITH 'MULTIPLE' USER INPUTS
def Name(name, age):
    print(f'My name is {name} and iam {age} old.')
Name('Sasi',19)
#Here positions of parameners and arguments are important
Name(19,'Sasi')  #It gives an weird output

#FUNCTION DEFINING WITH USER INPUTS - keyword arguments
#The another solution for the above positional problem is, we can use keywords in arguments
def Name(name, age):
    print(f'My name is {name} and iam {age} old.')
Name(age=19, name='Sasi')
