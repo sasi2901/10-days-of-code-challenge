{
  "nbformat": 4,
  "nbformat_minor": 0,
  "metadata": {
    "colab": {
      "provenance": []
    },
    "kernelspec": {
      "name": "python3",
      "display_name": "Python 3"
    },
    "language_info": {
      "name": "python"
    }
  },
  "cells": [
    {
      "cell_type": "markdown",
      "source": [
        "Band Name Generator"
      ],
      "metadata": {
        "id": "atu0MMxc8jKo"
      }
    },
    {
      "cell_type": "code",
      "execution_count": 2,
      "metadata": {
        "colab": {
          "base_uri": "https://localhost:8080/"
        },
        "id": "jM4hgQWe8FtY",
        "outputId": "8105ab30-8a09-4103-9326-8dd6d361f426"
      },
      "outputs": [
        {
          "output_type": "stream",
          "name": "stdout",
          "text": [
            "Welcome to the Band Name Generator.\n",
            "What's the name of the city you grew up in?\n",
            "Guntur\n",
            "What's your pet's name?\n",
            "Puppy\n",
            "Your band name could be Guntur Puppy\n"
          ]
        }
      ],
      "source": [
        "print(\"Welcome to the Band Name Generator.\")\n",
        "street = input(\"What's the name of the city you grew up in?\\n\")\n",
        "pet = input(\"What's your pet's name?\\n\")\n",
        "print(\"Your band name could be \" + street + \" \" + pet)"
      ]
    },
    {
      "cell_type": "markdown",
      "source": [
        "Name Generator\n"
      ],
      "metadata": {
        "id": "oLJ013_e8pLx"
      }
    },
    {
      "cell_type": "code",
      "source": [
        "place=input(\"What is the name of your favourite place???\\n\")\n",
        "name=input(\"What is the name of your best friend???\\n\")\n",
        "print(place+\" \"+name)\n",
        "print(\"\\n\")"
      ],
      "metadata": {
        "id": "nnUAXhFu8mye"
      },
      "execution_count": null,
      "outputs": []
    }
  ]
}