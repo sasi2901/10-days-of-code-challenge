{
  "nbformat": 4,
  "nbformat_minor": 0,
  "metadata": {
    "colab": {
      "provenance": []
    },
    "kernelspec": {
      "name": "python3",
      "display_name": "Python 3"
    },
    "language_info": {
      "name": "python"
    }
  },
  "cells": [
    {
      "cell_type": "code",
      "execution_count": 3,
      "metadata": {
        "colab": {
          "base_uri": "https://localhost:8080/"
        },
        "id": "kfekaMRwB-_m",
        "outputId": "cebbc9fa-2642-46ef-cb00-50320dd3a974"
      },
      "outputs": [
        {
          "output_type": "stream",
          "name": "stdout",
          "text": [
            "Give me everybody's names, separated by a comma. Pawan,chandan\n",
            "Pawan,chandan is going to buy the meal today!\n"
          ]
        }
      ],
      "source": [
        "import random\n",
        "names_string = input(\"Give me everybody's names, separated by a comma. \")\n",
        "names = names_string.split(\", \")\n",
        "num_items = len(names)\n",
        "random_choice = random.randint(0, num_items - 1)\n",
        "person_who_will_pay = names[random_choice]\n",
        "\n",
        "print(person_who_will_pay + \" is going to buy the meal today!\")\n"
      ]
    }
  ]
}