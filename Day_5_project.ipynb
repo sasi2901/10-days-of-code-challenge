{
  "nbformat": 4,
  "nbformat_minor": 0,
  "metadata": {
    "colab": {
      "provenance": []
    },
    "kernelspec": {
      "name": "python3",
      "display_name": "Python 3"
    },
    "language_info": {
      "name": "python"
    }
  },
  "cells": [
    {
      "cell_type": "code",
      "execution_count": 7,
      "metadata": {
        "colab": {
          "base_uri": "https://localhost:8080/"
        },
        "id": "kfekaMRwB-_m",
        "outputId": "98b51482-a97b-4517-b18f-3991f40a797e"
      },
      "outputs": [
        {
          "output_type": "stream",
          "name": "stdout",
          "text": [
            "Welcome to the PyPassword Generator!\n",
            "How many letters you want in your password? : 6\n",
            "How many symbols do you like? : 3\n",
            "How many numbers do you like? : 6\n",
            "\n",
            "\n",
            "Your password is: %C78DQP6y!30%L6\n"
          ]
        }
      ],
      "source": [
        "import random\n",
        "letters = ['a', 'b', 'c', 'd', 'e', 'f', 'g', 'h', 'i', 'j', 'k', 'l', 'm', 'n', 'o', 'p', 'q', 'r', 's', 't', 'u', 'v', 'w', 'x', 'y', 'z', 'A', 'B', 'C', 'D', 'E', 'F', 'G', 'H', 'I', 'J', 'K', 'L', 'M', 'N', 'O', 'P', 'Q', 'R', 'S', 'T', 'U', 'V', 'W', 'X', 'Y', 'Z']\n",
        "numbers = ['0', '1', '2', '3', '4', '5', '6', '7', '8', '9']\n",
        "symbols = ['!', '#', '$', '%', '&', '(', ')', '*', '+']\n",
        "\n",
        "print(\"Welcome to the PyPassword Generator!\")\n",
        "anr_letters = int(input(\"How many letters you want in your password? : \")) \n",
        "anr_symbols = int(input(f\"How many symbols do you like? : \"))\n",
        "anr_numbers = int(input(f\"How many numbers do you like? : \"))\n",
        "\n",
        "password_list = []\n",
        "\n",
        "for char in range(1, anr_letters + 1):\n",
        "  password_list.append(random.choice(letters))\n",
        "\n",
        "for char in range(1, anr_symbols + 1):\n",
        "  password_list += random.choice(symbols)\n",
        "\n",
        "for char in range(1, anr_numbers + 1):\n",
        "  password_list += random.choice(numbers)\n",
        "\n",
        "\n",
        "random.shuffle(password_list)\n",
        "password = \"\"\n",
        "for char in password_list:\n",
        "  password += char\n",
        "print(\"\\n\")\n",
        "print(f\"Your password is: {password}\")"
      ]
    }
  ]
}