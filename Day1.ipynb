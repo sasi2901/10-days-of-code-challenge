{
  "cells": [
    {
      "cell_type": "code",
      "execution_count": 5,
      "metadata": {
        "colab": {
          "base_uri": "https://localhost:8080/"
        },
        "id": "V2UnZsvw533h",
        "outputId": "a2a506ae-1beb-443c-d4b8-a32229e6ed06"
      },
      "outputs": [
        {
          "output_type": "stream",
          "name": "stdout",
          "text": [
            "Day 1 - Python Print Function\n",
            "The function is declared like this:\n",
            "print('what to print')\n",
            "Hello world\n",
            "Hello world\n",
            "Hi Guyss\n",
            "Hi Guyss\n",
            "What is your name???Sasi\n",
            "Hello Sasi\n",
            "WHAT IS UR NAME ? Sasi\n",
            "4\n",
            "India\n",
            "99\n"
          ]
        }
      ],
      "source": [
        "print(\"Day 1 - Python Print Function\")\n",
        "print(\"The function is declared like this:\")\n",
        "print(\"print('what to print')\")\n",
        "print(\"Hello world\\nHello world\")\n",
        "print(\"Hi\"+\" Guyss\")\n",
        "print(\"Hi\"+\" \"+\"Guyss\")\n",
        "print(\"Hello \" + input(\"What is your name???\"))\n",
        "print(len(input(\"WHAT IS UR NAME ? \")))\n",
        "place = \"India\"\n",
        "print(place)\n",
        "num = 99\n",
        "print(num)"
      ]
    },
    {
      "cell_type": "code",
      "source": [],
      "metadata": {
        "id": "m6stfL9b4-kj"
      },
      "execution_count": null,
      "outputs": []
    },
    {
      "cell_type": "code",
      "execution_count": null,
      "metadata": {
        "id": "ZCG2-mk46Kmd"
      },
      "outputs": [],
      "source": []
    }
  ],
  "metadata": {
    "colab": {
      "provenance": []
    },
    "kernelspec": {
      "display_name": "Python 3",
      "name": "python3"
    },
    "language_info": {
      "name": "python"
    }
  },
  "nbformat": 4,
  "nbformat_minor": 0
}