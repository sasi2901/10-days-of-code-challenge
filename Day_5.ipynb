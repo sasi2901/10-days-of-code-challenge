{
  "nbformat": 4,
  "nbformat_minor": 0,
  "metadata": {
    "colab": {
      "provenance": []
    },
    "kernelspec": {
      "name": "python3",
      "display_name": "Python 3"
    },
    "language_info": {
      "name": "python"
    }
  },
  "cells": [
    {
      "cell_type": "code",
      "execution_count": 6,
      "metadata": {
        "colab": {
          "base_uri": "https://localhost:8080/"
        },
        "id": "kfekaMRwB-_m",
        "outputId": "0d5ce6fb-ffa0-43c3-f3b7-8af42555576d"
      },
      "outputs": [
        {
          "output_type": "stream",
          "name": "stdout",
          "text": [
            "helo\n",
            "helo bro\n",
            "apple\n",
            "apple bro\n",
            "girraffe\n",
            "girraffe bro\n",
            "1\n",
            "3\n",
            "5\n",
            "7\n",
            "9\n",
            "5050\n",
            "Input a list of numberss 1 3 5 7\n",
            "[1, 3, 5, 7]\n",
            "The highest number in the list is: 7\n"
          ]
        }
      ],
      "source": [
        "NAMES = ['helo', 'apple', 'girraffe']\n",
        "for name in NAMES: \n",
        "    print(name)\n",
        "    print(name+' bro')\n",
        "for number in range(1,10,2):\n",
        "    print(number)\n",
        "total=0\n",
        "for number in range(1,101):\n",
        "    total+=number\n",
        "print(total) \n",
        "numbers = input(\"Input a list of numberss \").split()\n",
        "for n in range(0, len(numbers)):\n",
        "  numbers[n] = int(numbers[n])\n",
        "print(numbers)\n",
        "\n",
        "highest_num = 0\n",
        "for num in numbers:\n",
        "    if num>highest_num:\n",
        "        highest_num=num\n",
        "print(f\"The highest number in the list is: {highest_num}\")\n",
        "\n",
        "\n"
      ]
    }
  ]
}