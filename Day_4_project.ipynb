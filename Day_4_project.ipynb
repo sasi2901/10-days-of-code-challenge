{
  "nbformat": 4,
  "nbformat_minor": 0,
  "metadata": {
    "colab": {
      "provenance": []
    },
    "kernelspec": {
      "name": "python3",
      "display_name": "Python 3"
    },
    "language_info": {
      "name": "python"
    }
  },
  "cells": [
    {
      "cell_type": "code",
      "execution_count": 4,
      "metadata": {
        "colab": {
          "base_uri": "https://localhost:8080/"
        },
        "id": "kfekaMRwB-_m",
        "outputId": "7b202801-df2f-487c-8a69-97d512fb43cf"
      },
      "outputs": [
        {
          "output_type": "stream",
          "name": "stdout",
          "text": [
            "Enter a number. 0 for ROCK, 1 for PAPER, 2 for SCISSORS ->->-> 1\n",
            "You choose :\n",
            "\n",
            "                   _\n",
            "               _  / |\n",
            "              / \\ | | /               \\ \\| |/ /\n",
            "                \\ Y | /___\n",
            "              .-.) '. `__/\n",
            "             (.-.   / /\n",
            "                 | ' |\n",
            "                 |___|\n",
            "                [_____]\n",
            "                |     |\n",
            "\n",
            "\n",
            "computer chooses 0\n",
            " \n",
            "       \\                       ___--._\n",
            "       //-------------------./   ._. \\)\n",
            "                            |   / (_\\_\\)\n",
            "                            |_ '  (___)\n",
            "\\                           |     (__)\n",
            " \\__________________________|`------' \n",
            " \n",
            "Yay! You won the game\n",
            "\n",
            "\n"
          ]
        }
      ],
      "source": [
        "import random\n",
        "rock = ''' \n",
        "       \\                       ___--._\n",
        "       //-------------------./   ._. \\)\n",
        "                            |   / (_\\_\\)\n",
        "                            |_ '  (___)\n",
        "\\                           |     (__)\n",
        " \\__________________________|`------' \n",
        " '''\n",
        "paper = '''\n",
        "                   _\n",
        "               _  / |\n",
        "              / \\ | | /\\\n",
        "               \\ \\| |/ /\n",
        "                \\ Y | /___\n",
        "              .-.) '. `__/\n",
        "             (.-.   / /\n",
        "                 | ' |\n",
        "                 |___|\n",
        "                [_____]\n",
        "                |     |\n",
        "'''\n",
        "scissors = '''\n",
        "    .-.  _\n",
        "    | | / )\n",
        "    | |/ /\n",
        "   _|__ /_\n",
        "  / __)-' )\n",
        "  \\  `(.-')\n",
        "   > ._>-'\n",
        "  / \\/\n",
        "'''\n",
        "images = [rock, paper, scissors]\n",
        "\n",
        "your_choice = int(input(\"Enter a number. 0 for ROCK, 1 for PAPER, 2 for SCISSORS ->->-> \"))\n",
        "print(\"You choose :\")\n",
        "if your_choice>=3 or your_choice<0:\n",
        "    print(\"Your number is invalid, You lost\")\n",
        "else:\n",
        "    print(images[your_choice])\n",
        "\n",
        "    computer_choice = random.randint(0,2)\n",
        "    print(f\"\\ncomputer chooses {computer_choice}\")\n",
        "    print(images[computer_choice])\n",
        "\n",
        "    if your_choice>=3 or your_choice<0:\n",
        "        print(\"Your number is invalid, You lost\")\n",
        "    elif your_choice==0 and computer_choice==2:\n",
        "        print(\"Yay! You won the game\")\n",
        "    elif your_choice==0 and computer_choice==2:\n",
        "        print(\"You lost the game!\")\n",
        "    elif computer_choice>your_choice:\n",
        "        print(\"You lost the game!\")\n",
        "    elif your_choice>computer_choice:\n",
        "        print(\"Yay! You won the game\")\n",
        "    elif your_choice==computer_choice:\n",
        "        print(\"It's a draw game\")\n",
        "    print(\"\\n\")"
      ]
    }
  ]
}