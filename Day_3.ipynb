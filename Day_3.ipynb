{
  "nbformat": 4,
  "nbformat_minor": 0,
  "metadata": {
    "colab": {
      "provenance": []
    },
    "kernelspec": {
      "name": "python3",
      "display_name": "Python 3"
    },
    "language_info": {
      "name": "python"
    }
  },
  "cells": [
    {
      "cell_type": "code",
      "source": [
        "print(\"Welcome to the Love Calculator!\")\n",
        "name1 = input(\"What is your name? \\n\")\n",
        "name2 = input(\"What is their name? \\n\")\n",
        "combined_names = name1 + name2\n",
        "lower_names = combined_names.lower()\n",
        "t = lower_names.count(\"t\")\n",
        "r = lower_names.count(\"r\")\n",
        "u = lower_names.count(\"u\")\n",
        "e = lower_names.count(\"e\")\n",
        "first_digit = t + r + u + e\n",
        "\n",
        "l = lower_names.count(\"l\")\n",
        "o = lower_names.count(\"o\")\n",
        "v = lower_names.count(\"v\")\n",
        "e = lower_names.count(\"e\")\n",
        "second_digit = l + o + v + e\n",
        "\n",
        "score = int(str(first_digit) + str(second_digit))\n",
        "\n",
        "if (score < 10) or (score > 90):\n",
        "  print(f\"Your score is {score}, you go together like coke and mentos.\")\n",
        "elif (score >= 40) and (score <= 50):\n",
        "  print(f\"Your score is {score}, you are alright together.\")\n",
        "else:\n",
        "  print(f\"Your score is {score}.\")\n"
      ],
      "metadata": {
        "colab": {
          "base_uri": "https://localhost:8080/"
        },
        "id": "U9PCzuYf4GS_",
        "outputId": "e91c19ee-88e6-438e-8b59-7f8be0e9d291"
      },
      "execution_count": 1,
      "outputs": [
        {
          "output_type": "stream",
          "name": "stdout",
          "text": [
            "Welcome to the Love Calculator!\n",
            "What is your name? \n",
            "Chandan\n",
            "What is their name? \n",
            "Sravani\n",
            "Your score is 11.\n"
          ]
        }
      ]
    }
  ]
}