{
  "nbformat": 4,
  "nbformat_minor": 0,
  "metadata": {
    "colab": {
      "provenance": []
    },
    "kernelspec": {
      "name": "python3",
      "display_name": "Python 3"
    },
    "language_info": {
      "name": "python"
    }
  },
  "cells": [
    {
      "cell_type": "code",
      "source": [
        "s=\"Hey there, How are you???\"\n",
        "print(\"HELLO\"[0]) \n",
        "print('123'+'456')\n",
        "i=123456\n",
        "print(123+456)\n",
        "print(123_456_789)\n",
        "f=8.164\n",
        "print(8.9195)\n",
        "t=True  \n",
        "f=False\n",
        "print(type(s))\n",
        "print(type(i))\n",
        "print(type(f))\n",
        "print(type(i))\n",
        "num=input(\"Enter a number: \")\n",
        "new_num=str(num)\n",
        "print(new_num+\" is the number that user gave\")\n",
        "a=\"3\"\n",
        "print(type(a))\n",
        "x=int(a)\n",
        "print(type(x))\n",
        "3+4  \n",
        "2-1  \n",
        "2*4  \n",
        "9/3  \n",
        "9//3 \n",
        "2**3 \n",
        "10%2 \n",
        "print(round(3.14567893219876,2)) \n",
        "print(round(3.14567893219876,3)) \n",
        "school=10\n",
        "school+=5\n",
        "numb=10\n",
        "charac=\"ten\"\n",
        "bool=True\n",
        "print(f\"number is {numb}, word is {charac}, value is {bool}\")"
      ],
      "metadata": {
        "id": "0Z3hOdDsJJ-j",
        "outputId": "fcd09f96-4c8c-4840-997e-f12473dd7cd7",
        "colab": {
          "base_uri": "https://localhost:8080/"
        }
      },
      "execution_count": 1,
      "outputs": [
        {
          "output_type": "stream",
          "name": "stdout",
          "text": [
            "H\n",
            "123456\n",
            "579\n",
            "123456789\n",
            "8.9195\n",
            "<class 'str'>\n",
            "<class 'int'>\n",
            "<class 'bool'>\n",
            "<class 'int'>\n",
            "Enter a number: 584232\n",
            "584232 is the number that user gave\n",
            "<class 'str'>\n",
            "<class 'int'>\n",
            "3.15\n",
            "3.146\n",
            "number is 10, word is ten, value is True\n"
          ]
        }
      ]
    }
  ]
}